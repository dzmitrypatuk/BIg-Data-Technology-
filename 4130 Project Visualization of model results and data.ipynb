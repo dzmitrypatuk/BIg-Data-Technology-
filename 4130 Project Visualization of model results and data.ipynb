{
 "cells": [
  {
   "cell_type": "code",
   "execution_count": 0,
   "metadata": {
    "application/vnd.databricks.v1+cell": {
     "cellMetadata": {
      "byteLimit": 2048000,
      "rowLimit": 10000
     },
     "inputWidgets": {},
     "nuid": "74190c8b-cfde-4dac-9d67-e88f11e76370",
     "showTitle": false,
     "title": ""
    }
   },
   "outputs": [
    {
     "output_type": "stream",
     "name": "stdout",
     "output_type": "stream",
     "text": [
      "Python interpreter will be restarted.\nCollecting boto3>=1.28\n  Downloading boto3-1.33.7-py3-none-any.whl (139 kB)\nCollecting s3fs>=2023.3.0\n  Downloading s3fs-2023.12.1-py3-none-any.whl (28 kB)\nCollecting s3transfer<0.9.0,>=0.8.2\n  Downloading s3transfer-0.8.2-py3-none-any.whl (82 kB)\nRequirement already satisfied: jmespath<2.0.0,>=0.7.1 in /databricks/python3/lib/python3.9/site-packages (from boto3>=1.28) (0.10.0)\nCollecting botocore<1.34.0,>=1.33.7\n  Downloading botocore-1.33.7-py3-none-any.whl (11.8 MB)\nCollecting aiobotocore<3.0.0,>=2.5.4\n  Downloading aiobotocore-2.8.0-py3-none-any.whl (75 kB)\nCollecting fsspec==2023.12.1\n  Downloading fsspec-2023.12.1-py3-none-any.whl (168 kB)\nCollecting aiohttp!=4.0.0a0,!=4.0.0a1\n  Downloading aiohttp-3.9.1-cp39-cp39-manylinux_2_17_x86_64.manylinux2014_x86_64.whl (1.2 MB)\nCollecting wrapt<2.0.0,>=1.10.10\n  Downloading wrapt-1.16.0-cp39-cp39-manylinux_2_5_x86_64.manylinux1_x86_64.manylinux_2_17_x86_64.manylinux2014_x86_64.whl (80 kB)\nCollecting aioitertools<1.0.0,>=0.5.1\n  Downloading aioitertools-0.11.0-py3-none-any.whl (23 kB)\nCollecting aiobotocore<3.0.0,>=2.5.4\n  Downloading aiobotocore-2.7.0-py3-none-any.whl (73 kB)\n  Downloading aiobotocore-2.6.0-py3-none-any.whl (73 kB)\n  Downloading aiobotocore-2.5.4-py3-none-any.whl (73 kB)\nINFO: pip is looking at multiple versions of fsspec to determine which version is compatible with other requirements. This could take a while.\nINFO: pip is looking at multiple versions of s3fs to determine which version is compatible with other requirements. This could take a while.\nCollecting s3fs>=2023.3.0\n  Downloading s3fs-2023.10.0-py3-none-any.whl (28 kB)\nCollecting fsspec==2023.10.0\n  Downloading fsspec-2023.10.0-py3-none-any.whl (166 kB)\nCollecting s3fs>=2023.3.0\n  Downloading s3fs-2023.9.2-py3-none-any.whl (28 kB)\nCollecting fsspec==2023.9.2\n  Downloading fsspec-2023.9.2-py3-none-any.whl (173 kB)\nCollecting s3fs>=2023.3.0\n  Downloading s3fs-2023.9.1-py3-none-any.whl (28 kB)\nCollecting fsspec==2023.9.1\n  Downloading fsspec-2023.9.1-py3-none-any.whl (173 kB)\nCollecting s3fs>=2023.3.0\n  Downloading s3fs-2023.9.0-py3-none-any.whl (28 kB)\nCollecting fsspec==2023.9.0\n  Downloading fsspec-2023.9.0-py3-none-any.whl (173 kB)\nCollecting s3fs>=2023.3.0\n  Downloading s3fs-2023.6.0-py3-none-any.whl (28 kB)\nCollecting fsspec==2023.6.0\n  Downloading fsspec-2023.6.0-py3-none-any.whl (163 kB)\nCollecting aiobotocore~=2.5.0\n  Downloading aiobotocore-2.5.3-py3-none-any.whl (73 kB)\n  Downloading aiobotocore-2.5.2-py3-none-any.whl (72 kB)\n  Downloading aiobotocore-2.5.1-py3-none-any.whl (72 kB)\n  Downloading aiobotocore-2.5.0-py3-none-any.whl (72 kB)\nCollecting s3fs>=2023.3.0\n  Downloading s3fs-2023.5.0-py3-none-any.whl (28 kB)\nCollecting fsspec==2023.5.0\n  Downloading fsspec-2023.5.0-py3-none-any.whl (160 kB)\nCollecting s3fs>=2023.3.0\n  Downloading s3fs-2023.4.0-py3-none-any.whl (28 kB)\nCollecting fsspec==2023.4.0\n  Downloading fsspec-2023.4.0-py3-none-any.whl (153 kB)\nINFO: pip is looking at multiple versions of fsspec to determine which version is compatible with other requirements. This could take a while.\nINFO: pip is looking at multiple versions of s3fs to determine which version is compatible with other requirements. This could take a while.\nCollecting s3fs>=2023.3.0\n  Downloading s3fs-2023.3.0-py3-none-any.whl (27 kB)\nCollecting fsspec==2023.3.0\n  Downloading fsspec-2023.3.0-py3-none-any.whl (145 kB)\nCollecting aiobotocore~=2.4.2\n  Downloading aiobotocore-2.4.2-py3-none-any.whl (66 kB)\nINFO: pip is looking at multiple versions of <Python from Requires-Python> to determine which version is compatible with other requirements. This could take a while.\nINFO: pip is looking at multiple versions of boto3 to determine which version is compatible with other requirements. This could take a while.\nCollecting boto3>=1.28\n  Downloading boto3-1.33.6-py3-none-any.whl (139 kB)\nINFO: This is taking longer than usual. You might need to provide the dependency resolver with stricter constraints to reduce runtime. If you want to abort this run, you can press Ctrl + C to do so. To improve how pip performs, tell us what happened here: https://pip.pypa.io/surveys/backtracking\nINFO: This is taking longer than usual. You might need to provide the dependency resolver with stricter constraints to reduce runtime. If you want to abort this run, you can press Ctrl + C to do so. To improve how pip performs, tell us what happened here: https://pip.pypa.io/surveys/backtracking\n  Downloading boto3-1.33.5-py3-none-any.whl (139 kB)\n  Downloading boto3-1.33.4-py3-none-any.whl (139 kB)\n  Downloading boto3-1.33.3-py3-none-any.whl (139 kB)\n  Downloading boto3-1.33.2-py3-none-any.whl (139 kB)\n  Downloading boto3-1.33.1-py3-none-any.whl (139 kB)\nCollecting botocore<1.34.0,>=1.33.1\n  Downloading botocore-1.33.1-py3-none-any.whl (11.6 MB)\nCollecting frozenlist>=1.1.1\n  Downloading frozenlist-1.4.0-cp39-cp39-manylinux_2_5_x86_64.manylinux1_x86_64.manylinux_2_17_x86_64.manylinux2014_x86_64.whl (228 kB)\nCollecting yarl<2.0,>=1.0\n  Downloading yarl-1.9.3-cp39-cp39-manylinux_2_17_x86_64.manylinux2014_x86_64.whl (303 kB)\nCollecting async-timeout<5.0,>=4.0\n  Downloading async_timeout-4.0.3-py3-none-any.whl (5.7 kB)\nCollecting aiosignal>=1.1.2\n  Downloading aiosignal-1.3.1-py3-none-any.whl (7.6 kB)\nCollecting multidict<7.0,>=4.5\n  Downloading multidict-6.0.4-cp39-cp39-manylinux_2_17_x86_64.manylinux2014_x86_64.whl (114 kB)\nRequirement already satisfied: attrs>=17.3.0 in /databricks/python3/lib/python3.9/site-packages (from aiohttp!=4.0.0a0,!=4.0.0a1->s3fs>=2023.3.0) (21.4.0)\nRequirement already satisfied: typing_extensions>=4.0 in /databricks/python3/lib/python3.9/site-packages (from aioitertools<1.0.0,>=0.5.1->aiobotocore<3.0.0,>=2.5.4->s3fs>=2023.3.0) (4.1.1)\nRequirement already satisfied: python-dateutil<3.0.0,>=2.1 in /databricks/python3/lib/python3.9/site-packages (from botocore<1.34.0,>=1.33.1->boto3>=1.28) (2.8.2)\nRequirement already satisfied: urllib3<1.27,>=1.25.4 in /databricks/python3/lib/python3.9/site-packages (from botocore<1.34.0,>=1.33.1->boto3>=1.28) (1.26.9)\nRequirement already satisfied: six>=1.5 in /databricks/python3/lib/python3.9/site-packages (from python-dateutil<3.0.0,>=2.1->botocore<1.34.0,>=1.33.1->boto3>=1.28) (1.16.0)\nCollecting s3transfer<0.9.0,>=0.8.0\n  Downloading s3transfer-0.8.0-py3-none-any.whl (81 kB)\nRequirement already satisfied: idna>=2.0 in /databricks/python3/lib/python3.9/site-packages (from yarl<2.0,>=1.0->aiohttp!=4.0.0a0,!=4.0.0a1->s3fs>=2023.3.0) (3.3)\nInstalling collected packages: multidict, frozenlist, yarl, async-timeout, aiosignal, wrapt, botocore, aioitertools, aiohttp, s3transfer, fsspec, aiobotocore, s3fs, boto3\n  Attempting uninstall: botocore\n    Found existing installation: botocore 1.24.32\n    Not uninstalling botocore at /databricks/python3/lib/python3.9/site-packages, outside environment /local_disk0/.ephemeral_nfs/envs/pythonEnv-805d8206-15f3-437d-9017-3872cc56c033\n    Can't uninstall 'botocore'. No files were found to uninstall.\n  Attempting uninstall: s3transfer\n    Found existing installation: s3transfer 0.5.0\n    Not uninstalling s3transfer at /databricks/python3/lib/python3.9/site-packages, outside environment /local_disk0/.ephemeral_nfs/envs/pythonEnv-805d8206-15f3-437d-9017-3872cc56c033\n    Can't uninstall 's3transfer'. No files were found to uninstall.\n  Attempting uninstall: boto3\n    Found existing installation: boto3 1.21.32\n    Not uninstalling boto3 at /databricks/python3/lib/python3.9/site-packages, outside environment /local_disk0/.ephemeral_nfs/envs/pythonEnv-805d8206-15f3-437d-9017-3872cc56c033\n    Can't uninstall 'boto3'. No files were found to uninstall.\nSuccessfully installed aiobotocore-2.8.0 aiohttp-3.9.1 aioitertools-0.11.0 aiosignal-1.3.1 async-timeout-4.0.3 boto3-1.33.1 botocore-1.33.1 frozenlist-1.4.0 fsspec-2023.12.1 multidict-6.0.4 s3fs-2023.12.1 s3transfer-0.8.0 wrapt-1.16.0 yarl-1.9.3\nPython interpreter will be restarted.\n"
     ]
    }
   ],
   "source": [
    "%pip install \"boto3>=1.28\" \"s3fs>=2023.3.0\"\n"
   ]
  },
  {
   "cell_type": "code",
   "execution_count": 0,
   "metadata": {
    "application/vnd.databricks.v1+cell": {
     "cellMetadata": {
      "byteLimit": 2048000,
      "rowLimit": 10000
     },
     "inputWidgets": {},
     "nuid": "e2e125b2-837c-455f-9966-306da1dc0896",
     "showTitle": false,
     "title": ""
    }
   },
   "outputs": [],
   "source": [
    "\n",
    "import io\n",
    "import s3fs\n",
    "import boto3\n",
    "import time\n",
    "import os\n",
    "\n",
    "import matplotlib.pyplot as plt\n",
    "import seaborn as sns\n",
    "import pandas as pd\n",
    "import numpy as np\n",
    "\n",
    "from pyspark.sql.functions import col, isnan, isnull, when, count, udf, size, split, year, month, format_number, date_format, length\n",
    "from pyspark.sql.types import IntegerType, DateType, StringType, StructType, DoubleType\n",
    "from pyspark.ml.feature import VectorAssembler, StringIndexer, OneHotEncoder, Normalizer, StandardScaler, HashingTF, IDF, Tokenizer, RegexTokenizer\n",
    "\n",
    "from pyspark.ml.linalg import DenseMatrix, Vectors\n",
    "from pyspark.ml.stat import Correlation\n",
    "\n",
    "from pyspark.ml import Pipeline\n",
    "\n",
    "# Import the evaluation module\n",
    "from pyspark.ml.evaluation import *\n",
    "# Import the model tuning module\n",
    "from pyspark.ml.tuning import *\n"
   ]
  },
  {
   "cell_type": "code",
   "execution_count": 0,
   "metadata": {
    "application/vnd.databricks.v1+cell": {
     "cellMetadata": {
      "byteLimit": 2048000,
      "rowLimit": 10000
     },
     "inputWidgets": {},
     "nuid": "7ba0c767-88f1-4141-b7db-b43aee6107e7",
     "showTitle": false,
     "title": ""
    }
   },
   "outputs": [],
   "source": [
    "# To work with Amazon S3 storage, set the following variables using your AWS Access Key and Secret Key\n",
    "# Set the Region to where your files are stored in S3.\n",
    "access_key = ''\n",
    "secret_key = ''\n",
    "# Set the environment variables so boto3 can pick them up later\n",
    "os.environ['AWS_ACCESS_KEY_ID'] = access_key\n",
    "os.environ['AWS_SECRET_ACCESS_KEY'] = secret_key\n",
    "encoded_secret_key = secret_key.replace(\"/\", \"%2F\").replace(\"+\", \"%2B\")\n",
    "aws_region = \"us-east-2\"\n",
    "# Set this to the name of your bucket where the files are stored\n",
    "aws_bucket_name = \"amazon-reviews-project-dp\"\n",
    "mount_name = \"s3dataread\""
   ]
  },
  {
   "cell_type": "code",
   "execution_count": 0,
   "metadata": {
    "application/vnd.databricks.v1+cell": {
     "cellMetadata": {
      "byteLimit": 2048000,
      "rowLimit": 10000
     },
     "inputWidgets": {},
     "nuid": "c68efe6e-1ec4-41b6-b945-d039b0ee3ff2",
     "showTitle": false,
     "title": ""
    }
   },
   "outputs": [],
   "source": [
    "sc._jsc.hadoopConfiguration().set(\"fs.s3a.access.key\", access_key) \n",
    "\n",
    "sc._jsc.hadoopConfiguration().set(\"fs.s3a.secret.key\", secret_key) \n",
    "\n",
    "sc._jsc.hadoopConfiguration().set(\"fs.s3a.endpoint\", \"s3.\" + aws_region + \".amazonaws.com\")"
   ]
  },
  {
   "cell_type": "code",
   "execution_count": 0,
   "metadata": {
    "application/vnd.databricks.v1+cell": {
     "cellMetadata": {
      "byteLimit": 2048000,
      "rowLimit": 10000
     },
     "inputWidgets": {},
     "nuid": "fb7dc0d9-ff66-4e7a-a9ee-4a04fbb2463b",
     "showTitle": false,
     "title": ""
    }
   },
   "outputs": [],
   "source": [
    "def selecting_featuring (reviews_sdf):\n",
    "    selected_sdf = reviews_sdf.select(['star_rating', 'total_votes', 'review_body', 'vine', 'product_category', 'verified_purchase', 'helpful_votes', 'clean_review_headline', 'clean_review_body']).sample(False, 0.1, 42)\n",
    "\n",
    "\n",
    "    # Create a count of the review words\n",
    "    selected_sdf = selected_sdf.withColumn('review_body_wordcount', size(split(col('review_body'), ' ')))\n",
    "\n",
    "    selected_sdf = selected_sdf.withColumn(\"total_votes\",selected_sdf.total_votes.cast(DoubleType()))\n",
    "    selected_sdf = selected_sdf.withColumn(\"helpful_votes\",selected_sdf.total_votes.cast(DoubleType()))\n",
    "    selected_sdf = selected_sdf.withColumn(\"review_body_wordcount\",selected_sdf.review_body_wordcount.cast(DoubleType()))\n",
    "\n",
    "\n",
    "        # Filter out short review body texts\n",
    "        #selected_sdf = selected_sdf.where(length(selected_sdf.clean_review_body) > 10)\n",
    "\n",
    "        # Filter out review body texts with 5 or fewer words\n",
    "        #selected_sdf = selected_sdf.where(selected_sdf.review_body_wordcount > 5)\n",
    "\n",
    "    # Create a label. =1 if over 3, =0 if otherwise\n",
    "    selected_sdf = selected_sdf.withColumn(\"label\", when(selected_sdf.star_rating >= 4, 1.0).otherwise(0.0) )\n",
    "\n",
    "    # tokenizer = Tokenizer(inputCol=\"clean_review_body\", outputCol=\"clean_review_words\")\n",
    "    tokenizer = RegexTokenizer(inputCol=\"clean_review_body\", outputCol=\"clean_review_words\", pattern=\"\\\\w+\", gaps=False)\n",
    "    selected_sdf = tokenizer.transform(selected_sdf)\n",
    "\n",
    "    # Run the hash function over the tokens\n",
    "    selected_sdf = selected_sdf.drop('clean_review_tf')\n",
    "    hashtf = HashingTF(numFeatures=2**13, inputCol=\"clean_review_words\", outputCol='clean_review_tf')\n",
    "    selected_sdf = hashtf.transform(selected_sdf)\n",
    "\n",
    "    idf = IDF(inputCol='clean_review_tf', outputCol=\"clean_review_features\", minDocFreq=5)\n",
    "    selected_sdf = idf.fit(selected_sdf).transform(selected_sdf)\n",
    "\n",
    "    # Create an indexer for the string based columns.\n",
    "    indexer = StringIndexer(inputCols=[\"product_category\", \"vine\", \"verified_purchase\"], outputCols=[\"product_categoryIndex\", \"vineIndex\", \"verified_purchaseIndex\"], handleInvalid=\"keep\")\n",
    "\n",
    "    selected_sdf = indexer.fit(selected_sdf).transform(selected_sdf)\n",
    "\n",
    "    # Create an encoder for the indexes\n",
    "    encoder = OneHotEncoder(inputCols=[\"product_categoryIndex\", \"vineIndex\", \"verified_purchaseIndex\" ],\n",
    "                            outputCols=[\"product_categoryVector\", \"vineVector\", \"verified_purchaseVector\" ], dropLast=True, handleInvalid=\"keep\")\n",
    "\n",
    "    selected_sdf = encoder.fit(selected_sdf).transform(selected_sdf)\n",
    "    return selected_sdf\n",
    "\n",
    "#def pipeline (sdf):\n"
   ]
  },
  {
   "cell_type": "code",
   "execution_count": 0,
   "metadata": {
    "application/vnd.databricks.v1+cell": {
     "cellMetadata": {
      "byteLimit": 2048000,
      "rowLimit": 10000
     },
     "inputWidgets": {},
     "nuid": "92cf6b65-be1e-4d93-b5a3-9c6dfb4fa22e",
     "showTitle": false,
     "title": ""
    }
   },
   "outputs": [],
   "source": [
    "# Amazon Product Reviews\n",
    "# Path to Amazon S3 files\n",
    "filepath = \"s3://amazon-reviews-project-dp/raw/\"\n",
    "out_filepath = \"s3://amazon-reviews-project-dp/trusted/\"\n",
    "\n",
    "# List of data files\n",
    "filename_list = ['cleaned_amazon_reviews_us_Apparel_v1_00.tsv.parquet']\n",
    "\n",
    "#Read files from the list of files names in the s3 bucket\n",
    "for filename in filename_list:\n",
    "    # Read in amazon reviews. Reminder: Tab-separated values files\n",
    "    print(f\"Working on file: {filename}\")\n",
    "    reviews_sdf = spark.read.parquet(f\"{filepath}{filename}\")\n",
    "    reviews_sdf.printSchema()\n",
    "    reviews_sdf.show()\n",
    "    selected_sdf = selecting_featuring (reviews_sdf)\n",
    "    #reviews_sdf = pipeline (reviews_sdf)\n"
   ]
  },
  {
   "cell_type": "code",
   "execution_count": 0,
   "metadata": {
    "application/vnd.databricks.v1+cell": {
     "cellMetadata": {
      "byteLimit": 2048000,
      "rowLimit": 10000
     },
     "inputWidgets": {},
     "nuid": "85ad92b8-5dcf-49db-a072-21c59a7fab39",
     "showTitle": false,
     "title": ""
    }
   },
   "outputs": [
    {
     "output_type": "stream",
     "name": "stdout",
     "output_type": "stream",
     "text": [
      "+-----------+-----------+--------------------+----+----------------+-----------------+-------------+---------------------+--------------------+---------------------+-----+--------------------+--------------------+---------------------+---------------------+---------+----------------------+----------------------+-------------+-----------------------+\n|star_rating|total_votes|         review_body|vine|product_category|verified_purchase|helpful_votes|clean_review_headline|   clean_review_body|review_body_wordcount|label|  clean_review_words|     clean_review_tf|clean_review_features|product_categoryIndex|vineIndex|verified_purchaseIndex|product_categoryVector|   vineVector|verified_purchaseVector|\n+-----------+-----------+--------------------+----+----------------+-----------------+-------------+---------------------+--------------------+---------------------+-----+--------------------+--------------------+---------------------+---------------------+---------+----------------------+----------------------+-------------+-----------------------+\n|          3|        0.0|I ordered a large...|   N|         Apparel|                Y|          0.0|             Pink Top|I ordered a large...|                 23.0|  0.0|[i, ordered, a, l...|(8192,[345,509,61...| (8192,[345,509,61...|                  0.0|      0.0|                   0.0|         (2,[0],[1.0])|(3,[0],[1.0])|          (3,[0],[1.0])|\n|          4|        0.0|Excellent buy for...|   N|         Apparel|                Y|          0.0|      Outstanding buy|Excellent buy for...|                 43.0|  1.0|[excellent, buy, ...|(8192,[107,280,28...| (8192,[107,280,28...|                  0.0|      0.0|                   0.0|         (2,[0],[1.0])|(3,[0],[1.0])|          (3,[0],[1.0])|\n|          5|        2.0|I bought this for...|   N|         Apparel|                Y|          2.0|     Great work shirt|I bought this for...|                 36.0|  1.0|[i, bought, this,...|(8192,[280,340,34...| (8192,[280,340,34...|                  0.0|      0.0|                   0.0|         (2,[0],[1.0])|(3,[0],[1.0])|          (3,[0],[1.0])|\n|          5|        0.0|These are very ni...|   N|         Apparel|                Y|          0.0|         Nice Mittens|These are very ni...|                 60.0|  1.0|[these, are, very...|(8192,[122,280,34...| (8192,[122,280,34...|                  0.0|      0.0|                   0.0|         (2,[0],[1.0])|(3,[0],[1.0])|          (3,[0],[1.0])|\n|          1|        0.0|it brook the day ...|   N|         Apparel|                Y|          0.0|                sucks|it brook the day ...|                  7.0|  0.0|[it, brook, the, ...|(8192,[109,2187,2...| (8192,[109,2187,2...|                  0.0|      0.0|                   0.0|         (2,[0],[1.0])|(3,[0],[1.0])|          (3,[0],[1.0])|\n|          3|        2.0|I knew what to ex...|   N|         Apparel|                Y|          2.0| Small, flimsy, ch...|I knew what to ex...|                 41.0|  0.0|[i, knew, what, t...|(8192,[191,436,61...| (8192,[191,436,61...|                  0.0|      0.0|                   0.0|         (2,[0],[1.0])|(3,[0],[1.0])|          (3,[0],[1.0])|\n|          1|        6.0|When I bought thi...|   N|         Apparel|                Y|          6.0|                 Lame|When I bought thi...|                 27.0|  0.0|[when, i, bought,...|(8192,[345,404,50...| (8192,[345,404,50...|                  0.0|      0.0|                   0.0|         (2,[0],[1.0])|(3,[0],[1.0])|          (3,[0],[1.0])|\n|          3|        0.0|We weren't really...|   N|         Apparel|                Y|          0.0| Hooray for Hollyw...|We weren't really...|                 25.0|  0.0|[we, weren, t, re...|(8192,[280,404,43...| (8192,[280,404,43...|                  0.0|      0.0|                   0.0|         (2,[0],[1.0])|(3,[0],[1.0])|          (3,[0],[1.0])|\n|          5|        0.0|I got into using ...|   N|         Apparel|                Y|          0.0|   Great Glove Liners|I got into using ...|                 44.0|  1.0|[i, got, into, us...|(8192,[345,370,40...| (8192,[345,370,40...|                  0.0|      0.0|                   0.0|         (2,[0],[1.0])|(3,[0],[1.0])|          (3,[0],[1.0])|\n|          5|        1.0|This top is very ...|   N|         Apparel|                N|          1.0|           Very Cute!|This top is very ...|                 45.0|  1.0|[this, top, is, v...|(8192,[207,280,34...| (8192,[207,280,34...|                  0.0|      0.0|                   1.0|         (2,[0],[1.0])|(3,[0],[1.0])|          (3,[1],[1.0])|\n|          5|        0.0|I purchased this ...|   N|         Apparel|                Y|          0.0|      Great surprise!|I purchased this ...|                 33.0|  1.0|[i, purchased, th...|(8192,[280,907,11...| (8192,[280,907,11...|                  0.0|      0.0|                   0.0|         (2,[0],[1.0])|(3,[0],[1.0])|          (3,[0],[1.0])|\n|          5|        1.0|This dress is so ...|   N|         Apparel|                Y|          1.0| I love this dress...|This dress is so ...|                 24.0|  1.0|[this, dress, is,...|(8192,[345,518,10...| (8192,[345,518,10...|                  0.0|      0.0|                   0.0|         (2,[0],[1.0])|(3,[0],[1.0])|          (3,[0],[1.0])|\n|          1|        1.0|It is too tiny an...|   N|         Apparel|                Y|          1.0|             Too tiny|It is too tiny an...|                 23.0|  0.0|[it, is, too, tin...|(8192,[345,509,61...| (8192,[345,509,61...|                  0.0|      0.0|                   0.0|         (2,[0],[1.0])|(3,[0],[1.0])|          (3,[0],[1.0])|\n|          5|        0.0|Didn't expect the...|   N|         Apparel|                Y|          0.0|       Fishnet halter|Didn't expect the...|                 34.0|  1.0|[didn, t, expect,...|(8192,[345,611,90...| (8192,[345,611,90...|                  0.0|      0.0|                   0.0|         (2,[0],[1.0])|(3,[0],[1.0])|          (3,[0],[1.0])|\n|          4|        1.0|My hubby bought t...|   N|         Apparel|                Y|          1.0|           Super Sexy|My hubby bought t...|                 49.0|  1.0|[my, hubby, bough...|(8192,[189,191,28...| (8192,[189,191,28...|                  0.0|      0.0|                   0.0|         (2,[0],[1.0])|(3,[0],[1.0])|          (3,[0],[1.0])|\n|          2|        1.0|I bought a 3X bec...|   N|         Apparel|                N|          1.0| pretty but ran re...|I bought a 3X bec...|                 80.0|  0.0|[i, bought, a, 3x...|(8192,[345,611,66...| (8192,[345,611,66...|                  0.0|      0.0|                   1.0|         (2,[0],[1.0])|(3,[0],[1.0])|          (3,[1],[1.0])|\n|          4|        0.0|It's a great mone...|   N|         Apparel|                Y|          0.0| It's a great mone...|It's a great mone...|                 24.0|  1.0|[it, s, a, great,...|(8192,[611,721,11...| (8192,[611,721,11...|                  0.0|      0.0|                   0.0|         (2,[0],[1.0])|(3,[0],[1.0])|          (3,[0],[1.0])|\n|          5|        3.0|I was unsure if t...|   N|         Apparel|                Y|          3.0|        Great product|I was unsure if t...|                 74.0|  1.0|[i, was, unsure, ...|(8192,[152,189,28...| (8192,[152,189,28...|                  0.0|      0.0|                   0.0|         (2,[0],[1.0])|(3,[0],[1.0])|          (3,[0],[1.0])|\n|          5|        8.0|The photographer ...|   N|         Apparel|                N|          8.0| Dress is indeed s...|The photographer ...|                162.0|  1.0|[the, photographe...|(8192,[31,120,280...| (8192,[31,120,280...|                  0.0|      0.0|                   1.0|         (2,[0],[1.0])|(3,[0],[1.0])|          (3,[1],[1.0])|\n|          1|        0.0|I have bought sev...|   N|         Apparel|                N|          0.0| I have bought sev...|I have bought sev...|                 84.0|  0.0|[i, have, bought,...|(8192,[82,107,279...| (8192,[82,107,279...|                  0.0|      0.0|                   1.0|         (2,[0],[1.0])|(3,[0],[1.0])|          (3,[1],[1.0])|\n+-----------+-----------+--------------------+----+----------------+-----------------+-------------+---------------------+--------------------+---------------------+-----+--------------------+--------------------+---------------------+---------------------+---------+----------------------+----------------------+-------------+-----------------------+\nonly showing top 20 rows\n\n"
     ]
    }
   ],
   "source": [
    "selected_sdf.select('*').show()"
   ]
  },
  {
   "cell_type": "code",
   "execution_count": 0,
   "metadata": {
    "application/vnd.databricks.v1+cell": {
     "cellMetadata": {
      "byteLimit": 2048000,
      "rowLimit": 10000
     },
     "inputWidgets": {},
     "nuid": "53fe5464-c655-4f74-b544-b1d1d778b882",
     "showTitle": false,
     "title": ""
    }
   },
   "outputs": [
    {
     "output_type": "stream",
     "name": "stdout",
     "output_type": "stream",
     "text": [
      "Out[20]: <AxesSubplot:>"
     ]
    },
    {
     "output_type": "display_data",
     "data": {
      "image/png": "[encoded data removed]"
     },
     "metadata": {
      "application/vnd.databricks.v1+output": {
       "addedWidgets": {},
       "arguments": {},
       "data": "data:image/png;base64,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\n",
       "datasetInfos": [],
       "metadata": {},
       "removedWidgets": [],
       "type": "image"
      }
     },
     "output_type": "display_data"
    }
   ],
   "source": [
    "# Convert the numeric values to vector columns\n",
    "vector_column = \"correlation_features\"\n",
    "# Make a list of all of the numeric columns\n",
    "numeric_columns = [ \"star_rating\", \"helpful_votes\", \"total_votes\", \"review_body_wordcount\" ]\n",
    "# Use a vector assembler to combine all of the numeric columns together\n",
    "\n",
    "assembler = VectorAssembler(inputCols=numeric_columns, outputCol=vector_column)\n",
    "sdf_vector = assembler.transform(selected_sdf).select(vector_column)\n",
    "# Create the correlation matrix, then get just the values and convert to a list\n",
    "matrix = Correlation.corr(sdf_vector, vector_column).collect()[0][0]\n",
    "correlation_matrix = matrix.toArray().tolist()\n",
    "# Convert the correlation to a Pandas dataframe\n",
    "correlation_matrix_df = pd.DataFrame(data=correlation_matrix, columns=numeric_columns, index=numeric_columns)\n",
    "sns.set_style(\"white\")\n",
    "# Crate the plot using Seaborn\n",
    "plt.figure(figsize=(16,5))\n",
    "sns.heatmap(correlation_matrix_df,\n",
    "xticklabels=correlation_matrix_df.columns.values,\n",
    "yticklabels=correlation_matrix_df.columns.values, cmap=\"Greens\", annot=True)\n",
    "plt.savefig(\"correlation_matrix.png\")"
   ]
  },
  {
   "cell_type": "code",
   "execution_count": 0,
   "metadata": {
    "application/vnd.databricks.v1+cell": {
     "cellMetadata": {},
     "inputWidgets": {},
     "nuid": "280cf485-185f-4677-acc1-95d385615322",
     "showTitle": false,
     "title": ""
    }
   },
   "outputs": [],
   "source": [
    "\n",
    "# Create a few extra columns based on the date\n",
    "reviews_sdf = reviews_sdf.withColumn(\"review_date\", to_date(reviews_sdf.review_date, 'yyyy-MM-dd'))\n",
    "\n",
    "reviews_sdf = reviews_sdf.withColumn(\"review_year\", year(col(\"review_date\")))\n",
    "reviews_sdf = reviews_sdf.withColumn(\"review_month\", month(col(\"review_date\")))\n",
    "reviews_sdf = reviews_sdf.withColumn(\"review_yearmonth\", date_format(col(\"review_date\"), \"yyyy-MM\"))   # Like 2023-01   2023-02 etc.\n",
    "reviews_sdf = reviews_sdf.withColumn(\"review_dayofweek\", date_format(col(\"review_date\"), \"E\"))         # 'Monday' 'Tuesday' etc.\n",
    "reviews_sdf = reviews_sdf.withColumn(\"review_weekend\", when(reviews_sdf.review_dayofweek == 'Saturday',1.0).when(reviews_sdf.review_dayofweek == 'Sunday', 1.0).otherwise(0))\n",
    "reviews_sdf.show()\n",
    "# Get the number of records\n",
    "transformed_sdf.count()\n",
    "# Look at statistics for some specific columns\n",
    "transformed_sdf.select(\"clean_review_headline\", \"clean_review_body\", \"review_body_wordcount\").summary(\"count\", \"min\", \"max\").show()"
   ]
  },
  {
   "cell_type": "code",
   "execution_count": 0,
   "metadata": {
    "application/vnd.databricks.v1+cell": {
     "cellMetadata": {},
     "inputWidgets": {},
     "nuid": "8f28be66-5b49-460f-9cdf-69f8613f4180",
     "showTitle": false,
     "title": ""
    }
   },
   "outputs": [],
   "source": [
    "# Use groupby to get a count by date. Then convert to pandas dataframe\n",
    "summary_sdf = reviews_sdf.where(col(\"review_year\") >= 2000).groupby(\"review_year\").count().sort(\"review_year\")\n",
    "df = summary_sdf.toPandas()\n",
    "\n",
    "# Using Pandas built-in plotting functions\n",
    "# Create a bar plot using the columns order_date and count\n",
    "myplot = df.plot.bar('review_year','count')\n",
    "# Set the x-axis and y-axis labels\n",
    "myplot.set(xlabel='Date', ylabel='Number of Reviews')\n",
    "# Set the title\n",
    "myplot.set(title='Number of Reviews by Year')\n",
    "myplot.figure.set_tight_layout('tight')\n",
    "# Save the plot as a PNG file\n",
    "#myplot.get_figure().savefig(\"order_count_by_date.png\")"
   ]
  },
  {
   "cell_type": "code",
   "execution_count": 0,
   "metadata": {
    "application/vnd.databricks.v1+cell": {
     "cellMetadata": {},
     "inputWidgets": {},
     "nuid": "cb8c23c0-8963-4e8e-8220-3363801a6234",
     "showTitle": false,
     "title": ""
    }
   },
   "outputs": [],
   "source": [
    "# Visualize regression results\n",
    "# Plot label against predicted label (prediction)\n",
    "import seaborn as sns\n",
    "# The Spark dataframe test_results holds the original 'label' as well as the 'prediction'\n",
    "# Select and convert to a Pandas dataframe\n",
    "df = test_results.select('label', 'prediction').toPandas()\n",
    "# Set the style for Seaborn plots\n",
    "sns.set_style(\"white\")\n",
    "# Create a relationship plot between label and prediction\n",
    "sns.lmplot(x='label', y='prediction', logistic=True, data=df)"
   ]
  },
  {
   "cell_type": "code",
   "execution_count": 0,
   "metadata": {
    "application/vnd.databricks.v1+cell": {
     "cellMetadata": {},
     "inputWidgets": {},
     "nuid": "5e059d92-73dc-499f-97c1-02e99ef4a328",
     "showTitle": false,
     "title": ""
    }
   },
   "outputs": [],
   "source": [
    "# Use groupby to get a count by date. Then convert to pandas dataframe\n",
    "summary_sdf = reviews_sdf.where(col(\"review_year\") >= 2000).groupby(\"review_year\").count().sort(\"review_year\")\n",
    "df = summary_sdf.toPandas()\n",
    "\n",
    "# Using Pandas built-in plotting functions\n",
    "# Create a bar plot using the columns order_date and count\n",
    "myplot = df.plot.bar('review_year','count')\n",
    "# Set the x-axis and y-axis labels\n",
    "myplot.set(xlabel='Date', ylabel='Number of Reviews')\n",
    "# Set the title\n",
    "myplot.set(title='Number of Reviews by Year')\n",
    "myplot.figure.set_tight_layout('tight')\n",
    "# Save the plot as a PNG file\n",
    "#myplot.get_figure().savefig(\"order_count_by_date.png\")"
   ]
  },
  {
   "cell_type": "code",
   "execution_count": 0,
   "metadata": {
    "application/vnd.databricks.v1+cell": {
     "cellMetadata": {},
     "inputWidgets": {},
     "nuid": "55a065aa-7e0b-4d2c-b595-7b31a16566f4",
     "showTitle": false,
     "title": ""
    }
   },
   "outputs": [],
   "source": [
    "# Visualize regression results\n",
    "# Plot label against predicted label (prediction)\n",
    "import seaborn as sns\n",
    "# The Spark dataframe test_results holds the original 'label' as well as the 'prediction'\n",
    "# Select and convert to a Pandas dataframe\n",
    "df = test_results.select('label', 'prediction').toPandas()\n",
    "# Set the style for Seaborn plots\n",
    "sns.set_style(\"white\")\n",
    "# Create a relationship plot between label and prediction\n",
    "sns.lmplot(x='label', y='prediction', logistic=True, data=df)"
   ]
  },
  {
   "cell_type": "code",
   "execution_count": 0,
   "metadata": {
    "application/vnd.databricks.v1+cell": {
     "cellMetadata": {},
     "inputWidgets": {},
     "nuid": "aedbf490-469e-40ef-ba8d-8b2155908802",
     "showTitle": false,
     "title": ""
    }
   },
   "outputs": [],
   "source": [
    "# Working ROC \n",
    "import io\n",
    "import matplotlib.pyplot as plt\n",
    "\n",
    "img_data = io.BytesIO()\n",
    "\n",
    "parammap = cv.bestModel.extractParamMap()\n",
    "for p, v in parammap.items():\n",
    "    print(p, v)\n",
    "# Grab the model from Stage 3 of the pipeline\n",
    "mymodel = cv.bestModel\n",
    "plt.figure(figsize=(6,6))\n",
    "plt.plot([0, 1], [0, 1], 'r--')\n",
    "x = mymodel.summary.roc.select('FPR').collect()\n",
    "y = mymodel.summary.roc.select('TPR').collect()\n",
    "plt.scatter(x, y)\n",
    "plt.xlabel('False Positive Rate')\n",
    "plt.ylabel('True Positive Rate')\n",
    "plt.title(\"ROC Curve\")\n",
    "plt.show()\n",
    "#plt.savefig(\"reviews_roc.png\")\n",
    "# Write the figure to the buffer\n",
    "plt.savefig(img_data, format='png', bbox_inches='tight')\n",
    "# Rewind the pointer to the start of the data\n",
    "img_data.seek(0)\n",
    "# Connect to the s3fs file system\n",
    "s3 = s3fs.S3FileSystem(anon=False)\n",
    "with s3.open('s3://amazon-reviews-project-dp/visualizations/ROC_Modlel_results.png', 'wb') as f:\n",
    "    f.write(img_data.getbuffer())"
   ]
  },
  {
   "cell_type": "code",
   "execution_count": 0,
   "metadata": {
    "application/vnd.databricks.v1+cell": {
     "cellMetadata": {},
     "inputWidgets": {},
     "nuid": "c4169260-29f7-4312-a313-5a0d14ae1b6a",
     "showTitle": false,
     "title": ""
    }
   },
   "outputs": [],
   "source": []
  },
  {
   "cell_type": "code",
   "execution_count": 0,
   "metadata": {
    "application/vnd.databricks.v1+cell": {
     "cellMetadata": {},
     "inputWidgets": {},
     "nuid": "51621d72-2853-4310-9e8a-5a6f0517086a",
     "showTitle": false,
     "title": ""
    }
   },
   "outputs": [],
   "source": []
  },
  {
   "cell_type": "code",
   "execution_count": 0,
   "metadata": {
    "application/vnd.databricks.v1+cell": {
     "cellMetadata": {},
     "inputWidgets": {},
     "nuid": "91425e2d-f23b-40ff-8b96-c80904dc6260",
     "showTitle": false,
     "title": ""
    }
   },
   "outputs": [],
   "source": [
    "# Amazon Product Reviews\n",
    "# Path to Amazon S3 files\n",
    "filepath = \"s3://amazon-reviews-project-dp/raw/\"\n",
    "out_filepath = \"s3://amazon-reviews-project-dp/trusted/\"\n",
    "\n",
    "# List of data files\n",
    "filename_list = ['trusted_cleaned_amazon_reviews_us_Apparel_v1_00.tsv.parquet']\n",
    "\n",
    "#Read files from the list of files names in the s3 bucket\n",
    "for filename in filename_list:\n",
    "    # Read in amazon reviews. Reminder: Tab-separated values files\n",
    "    print(f\"Working on file: {filename}\")\n",
    "    reviews_sdf = spark.read.parquet(f\"{filepath}{filename}\")\n",
    "    reviews_sdf.printSchema()\n",
    "    reviews_sdf.show()"
   ]
  },
  {
   "cell_type": "code",
   "execution_count": 0,
   "metadata": {
    "application/vnd.databricks.v1+cell": {
     "cellMetadata": {},
     "inputWidgets": {},
     "nuid": "1cf9f5c4-598e-4b10-8437-ed06f8d06337",
     "showTitle": false,
     "title": ""
    }
   },
   "outputs": [],
   "source": [
    "#transformed_sdf = transformed_sdf.withColumn(\"review_body_wordcount\",transformed_sdf.review_body_wordcount.cast(DoubleType()))\n",
    "#transformed_sdf = transformed_sdf.withColumn(\"total_votes\",transformed_sdf.total_votes.cast(DoubleType()))"
   ]
  },
  {
   "cell_type": "code",
   "execution_count": 0,
   "metadata": {
    "application/vnd.databricks.v1+cell": {
     "cellMetadata": {},
     "inputWidgets": {},
     "nuid": "ecfaab2f-2a1c-4481-8fcf-4313d4b64fe3",
     "showTitle": false,
     "title": ""
    }
   },
   "outputs": [],
   "source": []
  },
  {
   "cell_type": "code",
   "execution_count": 0,
   "metadata": {
    "application/vnd.databricks.v1+cell": {
     "cellMetadata": {},
     "inputWidgets": {},
     "nuid": "47afbd8d-6a9e-458b-94cf-7e80c58b8789",
     "showTitle": false,
     "title": ""
    }
   },
   "outputs": [],
   "source": [
    "import seaborn as sns\n",
    "# Convert the numeric values to vector columns\n",
    "vector_column = \"correlation_features\"\n",
    "# Make a list of all of the numeric columns\n",
    "\n",
    "numeric_columns = [ \"product_categoryVector\", \"vineVector\", \"verified_purchaseVector\", \"total_votes\", \"review_body_wordcount\" ]\n",
    "# Use a vector assembler to combine all of the numeric columns together\n",
    "assembler = VectorAssembler(inputCols=numeric_columns, outputCol=vector_column)\n",
    "sdf_vector = assembler.transform(transformed_sdf).select(vector_column)\n",
    "# Create the correlation matrix, then get just the values and convert to a list\n",
    "matrix = Correlation.corr(sdf_vector, vector_column).collect()[0][0]\n",
    "correlation_matrix = matrix.toArray().tolist()\n",
    "# Convert the correlation to a Pandas dataframe\n",
    "correlation_matrix_df = pd.DataFrame(data=correlation_matrix, columns=numeric_columns, index=numeric_columns)\n",
    "sns.set_style(\"white\")\n",
    "# Crate the plot using Seaborn\n",
    "plt.figure(figsize=(16,5))\n",
    "sns.heatmap(correlation_matrix_df,\n",
    "xticklabels=correlation_matrix_df.columns.values,\n",
    "yticklabels=correlation_matrix_df.columns.values, cmap=\"Greens\", annot=True)\n",
    "plt.savefig(\"correlation_matrix.png\")"
   ]
  },
  {
   "cell_type": "code",
   "execution_count": 0,
   "metadata": {
    "application/vnd.databricks.v1+cell": {
     "cellMetadata": {},
     "inputWidgets": {},
     "nuid": "454c8221-7622-4300-8253-3741d8234f4e",
     "showTitle": false,
     "title": ""
    }
   },
   "outputs": [],
   "source": []
  },
  {
   "cell_type": "code",
   "execution_count": 0,
   "metadata": {
    "application/vnd.databricks.v1+cell": {
     "cellMetadata": {},
     "inputWidgets": {},
     "nuid": "7627cf5e-3983-4211-8951-4fec2e483685",
     "showTitle": false,
     "title": ""
    }
   },
   "outputs": [],
   "source": [
    "### Code \n",
    "\n",
    "# Using Pandas built-in plotting functions\n",
    "# Create a bar plot using the columns order_date and count\n",
    "x = mymodel.summary.roc.select('FPR').collect()\n",
    "y = mymodel.summary.roc.select('TPR').collect()\n",
    "df = transformed_sdf.toPandas() \n",
    "import pandas as pd\n",
    "df = test_results.select('label', 'prediction').toPandas()\n",
    "myplot = df.plot.bar(x,y)\n",
    "# Set the x-axis and y-axis labels\n",
    "myplot.set(xlabel='False Positive Rate', ylabel='True Positive Rate')\n",
    "# Set the title\n",
    "myplot.set(title=\"ROC Curve\")\n",
    "myplot.figure.set_tight_layout('tight')\n",
    "# Save the plot as a PNG file\n",
    "#myplot.get_figure().savefig(\"order_count_by_date.png\")"
   ]
  }
 ],
 "metadata": {
  "application/vnd.databricks.v1+notebook": {
   "dashboards": [],
   "language": "python",
   "notebookMetadata": {
    "pythonIndentUnit": 4
   },
   "notebookName": "4130 Project: Visualization of model results and data",
   "widgets": {}
  }
 },
 "nbformat": 4,
 "nbformat_minor": 0
}
