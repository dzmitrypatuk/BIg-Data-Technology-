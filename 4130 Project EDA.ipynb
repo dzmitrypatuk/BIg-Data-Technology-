{
 "cells": [
  {
   "cell_type": "code",
   "execution_count": 0,
   "metadata": {
    "application/vnd.databricks.v1+cell": {
     "cellMetadata": {
      "byteLimit": 2048000,
      "rowLimit": 10000
     },
     "inputWidgets": {},
     "nuid": "569edc5f-f579-4427-af36-c0944fdde0d9",
     "showTitle": false,
     "title": ""
    }
   },
   "outputs": [
    {
     "output_type": "display_data",
     "data": {
      "application/vnd.databricks.v1+bamboolib_hint": "{\"pd.DataFrames\": [], \"version\": \"0.0.1\"}",
      "text/plain": []
     },
     "metadata": {},
     "output_type": "display_data"
    },
    {
     "output_type": "stream",
     "name": "stdout",
     "output_type": "stream",
     "text": [
      "Out[3]: '3.3.2'"
     ]
    }
   ],
   "source": [
    "%pip install \"boto3>=1.28\" \"s3fs>=2023.3.0\"\n",
    "%pip install pyarrow fastparquet\n",
    "%pip install seaborn\n",
    "\n",
    "import boto3\n",
    "import time\n",
    "import numpy as np\n",
    "import pandas as pd \n",
    "import os\n",
    "import seaborn as sns\n",
    "import pyarrow\n",
    "#import fastparquet\n",
    "\n",
    "pd.options.display.float_format = '{:.4f}'.format\n",
    "\n",
    "sc.version"
   ]
  },
  {
   "cell_type": "code",
   "execution_count": 0,
   "metadata": {
    "application/vnd.databricks.v1+cell": {
     "cellMetadata": {
      "byteLimit": 2048000,
      "rowLimit": 10000
     },
     "inputWidgets": {},
     "nuid": "190315c6-3862-4086-92bb-18e1462beee3",
     "showTitle": false,
     "title": ""
    }
   },
   "outputs": [],
   "source": [
    "# To work with Amazon S3 storage, set the following variables using your AWS Access Key and Secret Key\n",
    "# Set the Region to where your files are stored in S3.\n",
    "access_key = ''\n",
    "secret_key = ''\n",
    "# Set the environment variables so boto3 can pick them up later\n",
    "os.environ['AWS_ACCESS_KEY_ID'] = access_key\n",
    "os.environ['AWS_SECRET_ACCESS_KEY'] = secret_key\n",
    "encoded_secret_key = secret_key.replace(\"/\", \"%2F\").replace(\"+\", \"%2B\")\n",
    "aws_region = \"us-east-2\"\n",
    "# Set this to the name of your bucket where the files are stored\n",
    "aws_bucket_name = \"amazon-reviews-project-dp\"\n",
    "mount_name = \"s3dataread\""
   ]
  },
  {
   "cell_type": "code",
   "execution_count": 0,
   "metadata": {
    "application/vnd.databricks.v1+cell": {
     "cellMetadata": {
      "byteLimit": 2048000,
      "rowLimit": 10000
     },
     "inputWidgets": {},
     "nuid": "0672b241-211b-4d73-a673-77438f5ca02a",
     "showTitle": false,
     "title": ""
    }
   },
   "outputs": [],
   "source": [
    "sc._jsc.hadoopConfiguration().set(\"fs.s3a.access.key\", access_key) \n",
    "sc._jsc.hadoopConfiguration().set(\"fs.s3a.secret.key\", secret_key) \n",
    "sc._jsc.hadoopConfiguration().set(\"fs.s3a.endpoint\", \"s3.\" + aws_region + \".amazonaws.com\")"
   ]
  },
  {
   "cell_type": "code",
   "execution_count": 0,
   "metadata": {
    "application/vnd.databricks.v1+cell": {
     "cellMetadata": {
      "byteLimit": 2048000,
      "rowLimit": 10000
     },
     "inputWidgets": {},
     "nuid": "85cfa0c8-7251-41ee-87e0-b717e10fe477",
     "showTitle": false,
     "title": ""
    }
   },
   "outputs": [],
   "source": [
    "# The Amazon S3 bucket can be mounted like a local directory using the Databricks dbfs file system\n",
    "# Mount Amazon S3 Bucket as a local file system\n",
    "#dbutils.fs.mount(f\"s3a://{access_key}:{encoded_secret_key}@{aws_bucket_name}\", f\"/mnt/{mount_name}\")\n",
    "#display(dbutils.fs.ls(f\"/mnt/{mount_name}\"))\n",
    "#file_location = \"dbfs:/mnt/s3dataread/landing/*\""
   ]
  },
  {
   "cell_type": "code",
   "execution_count": 0,
   "metadata": {
    "application/vnd.databricks.v1+cell": {
     "cellMetadata": {
      "byteLimit": 2048000,
      "rowLimit": 10000
     },
     "inputWidgets": {},
     "nuid": "46ea72b2-db23-41e0-b082-f73be2be01ad",
     "showTitle": false,
     "title": ""
    }
   },
   "outputs": [],
   "source": [
    "def perform_EDA(df, filename):\n",
    "    # print(df.head(5))\n",
    "    print(f\"{filename} Number of records:{len(df)}\" )\n",
    "    print(f\"{filename} Info\")\n",
    "    print(df.info())\n",
    "    print(f\"{filename} Describe\")\n",
    "    print(df.describe())\n",
    "    print(f\"{filename} Columns with null values\")\n",
    "    print(df.columns[df.isnull().any()].tolist())\n",
    "    rows_with_null_values = df.isnull().any(axis=1).sum()\n",
    "    print(f\"{filename} Number of Rows with null values: {rows_with_null_values}\" )\n",
    "    integer_column_list = df.select_dtypes(include='int64').columns\n",
    "    print(f\"{filename} Integer data type columns: {integer_column_list}\")\n",
    "    float_column_list = df.select_dtypes(include='float64').columns\n",
    "    print(f\"{filename} Float data type columns: {float_column_list}\")\n",
    "    # Add other codes here to explore and visualize specific columns   "
   ]
  },
  {
   "cell_type": "code",
   "execution_count": 0,
   "metadata": {
    "application/vnd.databricks.v1+cell": {
     "cellMetadata": {
      "byteLimit": 2048000,
      "rowLimit": 10000
     },
     "inputWidgets": {},
     "nuid": "d10ce4b8-b362-4d5e-bfed-36ddff24d072",
     "showTitle": false,
     "title": ""
    }
   },
   "outputs": [
    {
     "output_type": "stream",
     "name": "stdout",
     "output_type": "stream",
     "text": [
      "Working on file: amazon_reviews_us_Apparel_v1_00.tsv\namazon_reviews_us_Apparel_v1_00.tsv Number of records:5881874\namazon_reviews_us_Apparel_v1_00.tsv Info\n<class 'pandas.core.frame.DataFrame'>\nRangeIndex: 5881874 entries, 0 to 5881873\nData columns (total 15 columns):\n #   Column             Dtype  \n---  ------             -----  \n 0   marketplace        object \n 1   customer_id        int64  \n 2   review_id          object \n 3   product_id         object \n 4   product_parent     int64  \n 5   product_title      object \n 6   product_category   object \n 7   star_rating        float64\n 8   helpful_votes      float64\n 9   total_votes        float64\n 10  vine               object \n 11  verified_purchase  object \n 12  review_headline    object \n 13  review_body        object \n 14  review_date        object \ndtypes: float64(3), int64(2), object(10)\nmemory usage: 673.1+ MB\nNone\namazon_reviews_us_Apparel_v1_00.tsv Describe\n        customer_id  product_parent  star_rating  helpful_votes  total_votes\ncount  5881874.0000    5881874.0000 5881873.0000   5881873.0000 5881873.0000\nmean  25387998.3909  502908029.7148       4.1053         0.9742       1.1658\nstd   15762726.2174  288938209.1334       1.2592        20.7167      21.2557\nmin      10003.0000        665.0000       1.0000         0.0000       0.0000\n25%   12394968.0000  252075317.0000       4.0000         0.0000       0.0000\n50%   23367914.0000  504931444.0000       5.0000         0.0000       0.0000\n75%   40133743.2500  755127660.0000       5.0000         0.0000       1.0000\nmax   53096560.0000  999997875.0000       5.0000     41278.0000   41889.0000\namazon_reviews_us_Apparel_v1_00.tsv Columns with null values\n['product_title', 'star_rating', 'helpful_votes', 'total_votes', 'vine', 'verified_purchase', 'review_headline', 'review_body', 'review_date']\namazon_reviews_us_Apparel_v1_00.tsv Number of Rows with null values: 958\namazon_reviews_us_Apparel_v1_00.tsv Integer data type columns: Index(['customer_id', 'product_parent'], dtype='object')\namazon_reviews_us_Apparel_v1_00.tsv Float data type columns: Index(['star_rating', 'helpful_votes', 'total_votes'], dtype='object')\n"
     ]
    }
   ],
   "source": [
    "# Amazon Product Reviews\n",
    "# Path to Amazon S3 files\n",
    "filepath = \"s3://amazon-reviews-project-dp/landing/\"\n",
    "# List of data files\n",
    "filename_list = ['amazon_reviews_us_Apparel_v1_00.tsv'] \n",
    "\n",
    "for filename in filename_list:\n",
    "    # Read in amazon reviews. Reminder: Tab-separated values files\n",
    "    print(f\"Working on file: {filename}\")\n",
    "    reviews_df = pd.read_csv(f\"{filepath}{filename}\", sep='\\t', on_bad_lines='skip', low_memory=False)\n",
    "    reviews_df.head()\n",
    "    perform_EDA(reviews_df,filename)"
   ]
  },
  {
   "cell_type": "code",
   "execution_count": 0,
   "metadata": {
    "application/vnd.databricks.v1+cell": {
     "cellMetadata": {
      "byteLimit": 2048000,
      "rowLimit": 10000
     },
     "inputWidgets": {},
     "nuid": "64630cd7-dc74-4e3c-a29a-01e6861b41ff",
     "showTitle": false,
     "title": ""
    }
   },
   "outputs": [
    {
     "output_type": "display_data",
     "data": {
      "text/plain": [
       ""
      ]
     },
     "metadata": {
      "application/vnd.databricks.v1+output": {
       "arguments": {},
       "data": "",
       "errorSummary": "Command skipped",
       "errorTraceType": "ansi",
       "metadata": {},
       "type": "ipynbError"
      }
     },
     "output_type": "display_data"
    }
   ],
   "source": [
    "#sdf1 = spark.read.json('https://amazon-reviews-project-dp.s3.us-east-2.amazonaws.com/landing/amazon_reviews_us_Digital_Software_v1_00.tsv', sep='\\t')"
   ]
  },
  {
   "cell_type": "code",
   "execution_count": 0,
   "metadata": {
    "application/vnd.databricks.v1+cell": {
     "cellMetadata": {
      "byteLimit": 2048000,
      "rowLimit": 10000
     },
     "collapsed": true,
     "inputWidgets": {},
     "nuid": "b721ae4d-7f32-4035-9612-cc12eb1d281e",
     "showTitle": false,
     "title": ""
    }
   },
   "outputs": [
    {
     "output_type": "display_data",
     "data": {
      "text/plain": [
       ""
      ]
     },
     "metadata": {
      "application/vnd.databricks.v1+output": {
       "arguments": {},
       "data": "",
       "errorSummary": "Command skipped",
       "errorTraceType": "ansi",
       "metadata": {},
       "type": "ipynbError"
      }
     },
     "output_type": "display_data"
    }
   ],
   "source": [
    "print(loaded_data_pd_df1)"
   ]
  },
  {
   "cell_type": "code",
   "execution_count": 0,
   "metadata": {
    "application/vnd.databricks.v1+cell": {
     "cellMetadata": {
      "byteLimit": 2048000,
      "rowLimit": 10000
     },
     "inputWidgets": {},
     "nuid": "115aa0d5-5c53-4f6c-b8ff-a887d737001b",
     "showTitle": false,
     "title": ""
    }
   },
   "outputs": [
    {
     "output_type": "display_data",
     "data": {
      "text/html": [
       "<div>\n",
       "<style scoped>\n",
       "    .dataframe tbody tr th:only-of-type {\n",
       "        vertical-align: middle;\n",
       "    }\n",
       "\n",
       "    .dataframe tbody tr th {\n",
       "        vertical-align: top;\n",
       "    }\n",
       "\n",
       "    .dataframe thead th {\n",
       "        text-align: right;\n",
       "    }\n",
       "</style>\n",
       "<table border=\"1\" class=\"dataframe\">\n",
       "  <thead>\n",
       "    <tr style=\"text-align: right;\">\n",
       "      <th></th>\n",
       "      <th>marketplace</th>\n",
       "      <th>customer_id</th>\n",
       "      <th>review_id</th>\n",
       "      <th>product_id</th>\n",
       "      <th>product_parent</th>\n",
       "      <th>product_title</th>\n",
       "      <th>product_category</th>\n",
       "      <th>star_rating</th>\n",
       "      <th>helpful_votes</th>\n",
       "      <th>total_votes</th>\n",
       "      <th>vine</th>\n",
       "      <th>verified_purchase</th>\n",
       "      <th>review_headline</th>\n",
       "      <th>review_body</th>\n",
       "      <th>review_date</th>\n",
       "    </tr>\n",
       "  </thead>\n",
       "  <tbody>\n",
       "    <tr>\n",
       "      <th>0</th>\n",
       "      <td>US</td>\n",
       "      <td>36075342</td>\n",
       "      <td>RAB23OVFNCXZQ</td>\n",
       "      <td>B00LPRXQ4Y</td>\n",
       "      <td>339193102</td>\n",
       "      <td>17\" 2003-2006 Ford EXPEDITION Ford F150 2004-2...</td>\n",
       "      <td>Automotive</td>\n",
       "      <td>1</td>\n",
       "      <td>0.0000</td>\n",
       "      <td>0.0000</td>\n",
       "      <td>N</td>\n",
       "      <td>Y</td>\n",
       "      <td>As it was used,</td>\n",
       "      <td>As it was used, the method that Ford used to a...</td>\n",
       "      <td>2015-08-31</td>\n",
       "    </tr>\n",
       "    <tr>\n",
       "      <th>1</th>\n",
       "      <td>US</td>\n",
       "      <td>42462164</td>\n",
       "      <td>R3NORADVJO6IE6</td>\n",
       "      <td>B000C7S0TO</td>\n",
       "      <td>907684644</td>\n",
       "      <td>Spectra Premium CU1909 Complete Radiator for T...</td>\n",
       "      <td>Automotive</td>\n",
       "      <td>5</td>\n",
       "      <td>0.0000</td>\n",
       "      <td>0.0000</td>\n",
       "      <td>N</td>\n",
       "      <td>Y</td>\n",
       "      <td>Five Stars</td>\n",
       "      <td>Put it in fine, no problems. Shipping was dece...</td>\n",
       "      <td>2015-08-31</td>\n",
       "    </tr>\n",
       "    <tr>\n",
       "      <th>2</th>\n",
       "      <td>US</td>\n",
       "      <td>21241933</td>\n",
       "      <td>R299F4SO98S5OO</td>\n",
       "      <td>B000CO9WE4</td>\n",
       "      <td>752246352</td>\n",
       "      <td>K&amp;N E-4665 High Performance Replacement Indust...</td>\n",
       "      <td>Automotive</td>\n",
       "      <td>5</td>\n",
       "      <td>1.0000</td>\n",
       "      <td>1.0000</td>\n",
       "      <td>N</td>\n",
       "      <td>Y</td>\n",
       "      <td>Great fit and performance on the surface drive...</td>\n",
       "      <td>Fit wonderfully on my 36HP Pro-Drive motor.</td>\n",
       "      <td>2015-08-31</td>\n",
       "    </tr>\n",
       "    <tr>\n",
       "      <th>3</th>\n",
       "      <td>US</td>\n",
       "      <td>52570308</td>\n",
       "      <td>R2DA9DOT03UW6I</td>\n",
       "      <td>B000GKD5NI</td>\n",
       "      <td>105401756</td>\n",
       "      <td>Suncutters Rear Window Shade</td>\n",
       "      <td>Automotive</td>\n",
       "      <td>5</td>\n",
       "      <td>2.0000</td>\n",
       "      <td>3.0000</td>\n",
       "      <td>N</td>\n",
       "      <td>Y</td>\n",
       "      <td>Good for the price. Fits fairly good on 2010 T...</td>\n",
       "      <td>Good for the price!  So far I have put it up i...</td>\n",
       "      <td>2015-08-31</td>\n",
       "    </tr>\n",
       "    <tr>\n",
       "      <th>4</th>\n",
       "      <td>US</td>\n",
       "      <td>38200102</td>\n",
       "      <td>R2OGCH681EQHU6</td>\n",
       "      <td>B009SDA7TE</td>\n",
       "      <td>728471129</td>\n",
       "      <td>Lug Nuts Landcruiser Tundra OEM Mag 14x1.5 Thr...</td>\n",
       "      <td>Automotive</td>\n",
       "      <td>5</td>\n",
       "      <td>0.0000</td>\n",
       "      <td>0.0000</td>\n",
       "      <td>N</td>\n",
       "      <td>Y</td>\n",
       "      <td>Five Stars</td>\n",
       "      <td>Fit perfectly on my 2012 Tundra with stock alu...</td>\n",
       "      <td>2015-08-31</td>\n",
       "    </tr>\n",
       "  </tbody>\n",
       "</table>\n",
       "</div>"
      ]
     },
     "metadata": {
      "application/vnd.databricks.v1+output": {
       "addedWidgets": {},
       "arguments": {},
       "data": "<div>\n<style scoped>\n    .dataframe tbody tr th:only-of-type {\n        vertical-align: middle;\n    }\n\n    .dataframe tbody tr th {\n        vertical-align: top;\n    }\n\n    .dataframe thead th {\n        text-align: right;\n    }\n</style>\n<table border=\"1\" class=\"dataframe\">\n  <thead>\n    <tr style=\"text-align: right;\">\n      <th></th>\n      <th>marketplace</th>\n      <th>customer_id</th>\n      <th>review_id</th>\n      <th>product_id</th>\n      <th>product_parent</th>\n      <th>product_title</th>\n      <th>product_category</th>\n      <th>star_rating</th>\n      <th>helpful_votes</th>\n      <th>total_votes</th>\n      <th>vine</th>\n      <th>verified_purchase</th>\n      <th>review_headline</th>\n      <th>review_body</th>\n      <th>review_date</th>\n    </tr>\n  </thead>\n  <tbody>\n    <tr>\n      <th>0</th>\n      <td>US</td>\n      <td>36075342</td>\n      <td>RAB23OVFNCXZQ</td>\n      <td>B00LPRXQ4Y</td>\n      <td>339193102</td>\n      <td>17\" 2003-2006 Ford EXPEDITION Ford F150 2004-2...</td>\n      <td>Automotive</td>\n      <td>1</td>\n      <td>0.0000</td>\n      <td>0.0000</td>\n      <td>N</td>\n      <td>Y</td>\n      <td>As it was used,</td>\n      <td>As it was used, the method that Ford used to a...</td>\n      <td>2015-08-31</td>\n    </tr>\n    <tr>\n      <th>1</th>\n      <td>US</td>\n      <td>42462164</td>\n      <td>R3NORADVJO6IE6</td>\n      <td>B000C7S0TO</td>\n      <td>907684644</td>\n      <td>Spectra Premium CU1909 Complete Radiator for T...</td>\n      <td>Automotive</td>\n      <td>5</td>\n      <td>0.0000</td>\n      <td>0.0000</td>\n      <td>N</td>\n      <td>Y</td>\n      <td>Five Stars</td>\n      <td>Put it in fine, no problems. Shipping was dece...</td>\n      <td>2015-08-31</td>\n    </tr>\n    <tr>\n      <th>2</th>\n      <td>US</td>\n      <td>21241933</td>\n      <td>R299F4SO98S5OO</td>\n      <td>B000CO9WE4</td>\n      <td>752246352</td>\n      <td>K&amp;N E-4665 High Performance Replacement Indust...</td>\n      <td>Automotive</td>\n      <td>5</td>\n      <td>1.0000</td>\n      <td>1.0000</td>\n      <td>N</td>\n      <td>Y</td>\n      <td>Great fit and performance on the surface drive...</td>\n      <td>Fit wonderfully on my 36HP Pro-Drive motor.</td>\n      <td>2015-08-31</td>\n    </tr>\n    <tr>\n      <th>3</th>\n      <td>US</td>\n      <td>52570308</td>\n      <td>R2DA9DOT03UW6I</td>\n      <td>B000GKD5NI</td>\n      <td>105401756</td>\n      <td>Suncutters Rear Window Shade</td>\n      <td>Automotive</td>\n      <td>5</td>\n      <td>2.0000</td>\n      <td>3.0000</td>\n      <td>N</td>\n      <td>Y</td>\n      <td>Good for the price. Fits fairly good on 2010 T...</td>\n      <td>Good for the price!  So far I have put it up i...</td>\n      <td>2015-08-31</td>\n    </tr>\n    <tr>\n      <th>4</th>\n      <td>US</td>\n      <td>38200102</td>\n      <td>R2OGCH681EQHU6</td>\n      <td>B009SDA7TE</td>\n      <td>728471129</td>\n      <td>Lug Nuts Landcruiser Tundra OEM Mag 14x1.5 Thr...</td>\n      <td>Automotive</td>\n      <td>5</td>\n      <td>0.0000</td>\n      <td>0.0000</td>\n      <td>N</td>\n      <td>Y</td>\n      <td>Five Stars</td>\n      <td>Fit perfectly on my 2012 Tundra with stock alu...</td>\n      <td>2015-08-31</td>\n    </tr>\n  </tbody>\n</table>\n</div>",
       "datasetInfos": [],
       "metadata": {},
       "removedWidgets": [],
       "textData": null,
       "type": "htmlSandbox"
      }
     },
     "output_type": "display_data"
    }
   ],
   "source": [
    "reviews_sdf.head()"
   ]
  },
  {
   "cell_type": "code",
   "execution_count": 0,
   "metadata": {
    "application/vnd.databricks.v1+cell": {
     "cellMetadata": {
      "byteLimit": 2048000,
      "rowLimit": 10000
     },
     "inputWidgets": {},
     "nuid": "bdcd50c2-c00f-499c-b077-22bf10290c39",
     "showTitle": false,
     "title": ""
    }
   },
   "outputs": [],
   "source": []
  },
  {
   "cell_type": "code",
   "execution_count": 0,
   "metadata": {
    "application/vnd.databricks.v1+cell": {
     "cellMetadata": {
      "byteLimit": 2048000,
      "rowLimit": 10000
     },
     "inputWidgets": {},
     "nuid": "eca9f3fb-8a70-4c94-bf08-a27d01258bb6",
     "showTitle": false,
     "title": ""
    }
   },
   "outputs": [],
   "source": []
  },
  {
   "cell_type": "code",
   "execution_count": 0,
   "metadata": {
    "application/vnd.databricks.v1+cell": {
     "cellMetadata": {
      "byteLimit": 2048000,
      "rowLimit": 10000
     },
     "inputWidgets": {},
     "nuid": "2ea1b8c5-2859-45ad-b564-491ad915eed9",
     "showTitle": false,
     "title": ""
    }
   },
   "outputs": [],
   "source": []
  },
  {
   "cell_type": "code",
   "execution_count": 0,
   "metadata": {
    "application/vnd.databricks.v1+cell": {
     "cellMetadata": {
      "byteLimit": 2048000,
      "rowLimit": 10000
     },
     "inputWidgets": {},
     "nuid": "dc155171-71ed-4620-847f-c424cc12d285",
     "showTitle": false,
     "title": ""
    }
   },
   "outputs": [
    {
     "output_type": "display_data",
     "data": {
      "text/plain": [
       ""
      ]
     },
     "metadata": {
      "application/vnd.databricks.v1+output": {
       "arguments": {},
       "data": "",
       "errorSummary": "Command skipped",
       "errorTraceType": "ansi",
       "metadata": {},
       "type": "ipynbError"
      }
     },
     "output_type": "display_data"
    }
   ],
   "source": [
    "#Data "
   ]
  },
  {
   "cell_type": "code",
   "execution_count": 0,
   "metadata": {
    "application/vnd.databricks.v1+cell": {
     "cellMetadata": {
      "byteLimit": 2048000,
      "rowLimit": 10000
     },
     "inputWidgets": {},
     "nuid": "f394bd1b-f7fc-40cf-ad51-b93b1f3f0b5f",
     "showTitle": false,
     "title": ""
    }
   },
   "outputs": [],
   "source": []
  }
 ],
 "metadata": {
  "application/vnd.databricks.v1+notebook": {
   "dashboards": [],
   "language": "python",
   "notebookMetadata": {
    "pythonIndentUnit": 4
   },
   "notebookName": "4130 Project: EDA",
   "widgets": {}
  }
 },
 "nbformat": 4,
 "nbformat_minor": 0
}
